{
 "cells": [
  {
   "cell_type": "code",
   "execution_count": 3,
   "metadata": {
    "collapsed": true
   },
   "outputs": [],
   "source": [
    "from selenium import webdriver\n",
    "from selenium.webdriver.support.ui import WebDriverWait\n",
    "from selenium.webdriver.support import expected_conditions as EC\n",
    "from selenium.webdriver.common.by import By\n",
    "from bs4 import BeautifulSoup\n",
    "import time\n",
    "import numpy as np\n",
    "import pandas as pd\n"
   ]
  },
  {
   "cell_type": "code",
   "execution_count": 4,
   "metadata": {
    "collapsed": true
   },
   "outputs": [],
   "source": [
    "def insta_crawling_data_produce(user, pwd):\n",
    "        '''insta crawling , (man = 1 , woman = 0)'''\n",
    "        chromedriver = '/usr/local/bin/chromedriver' \n",
    "        driver = webdriver.Chrome(chromedriver)\n",
    "        driver.get(\"https://www.instagram.com/\")\n",
    "        id_list = []\n",
    "        follows_list = []\n",
    "        commet_list = []\n",
    "        hash_tag_list =[]\n",
    "        \n",
    "        login_XPATH ='//*[@id=\"react-root\"]/section/main/article/div[2]/div[2]/p/a'\n",
    "\n",
    "        frist_login_button_tag = WebDriverWait(driver, 10).until(EC.presence_of_element_located((By.XPATH,login_XPATH)))\n",
    "        frist_login_button_tag.click() \n",
    "\n",
    "        ID_XPATH = '//*[@id=\"react-root\"]/section/main/article/div[2]/div[1]/div/form/div[1]/div/input'\n",
    "        password_XPATH = '//*[@id=\"react-root\"]/section/main/article/div[2]/div[1]/div/form/div[2]/div/input'\n",
    "        second_login_XPATH = '//*[@id=\"react-root\"]/section/main/article/div[2]/div[1]/div/form/span/button'\n",
    "\n",
    "        ID_tag = WebDriverWait(driver, 10).until(EC.presence_of_element_located((By.XPATH, ID_XPATH)))\n",
    "        password_tag = WebDriverWait(driver, 10).until(EC.presence_of_element_located((By.XPATH, password_XPATH)))\n",
    "        second_login_button_tag = WebDriverWait(driver, 10).until(EC.presence_of_element_located((By.XPATH,second_login_XPATH)))\n",
    "\n",
    "        ID_tag.clear()\n",
    "        ID_tag.send_keys(user) \n",
    "        password_tag.clear()\n",
    "        password_tag.send_keys(pwd)\n",
    "        second_login_button_tag.click()\n",
    "        \n",
    "        search_button_XPATH = '//*[@id=\"react-root\"]/section/nav/div[2]/div/div/div[3]/div/div[1]/a'\n",
    "        search_button_tag = WebDriverWait(driver, 10).until(EC.presence_of_element_located((By.XPATH,search_button_XPATH)))\n",
    "        search_button_tag.click()\n",
    "        \n",
    "        driver.get(\"https://www.instagram.com/explore/\")\n",
    "        html = driver.page_source\n",
    "        soup = BeautifulSoup(html, 'html.parser')\n",
    "        pictures = soup.select('#react-root > section > main > div > article')\n",
    "        for line_picture in pictures:\n",
    "            picture = line_picture.select('#react-root > section > main > div > article > div > div._cmdpi > div:nth-child(1)')\n",
    "            print(picture)\n",
    "            for p in picture:\n",
    "                pass\n",
    "        "
   ]
  },
  {
   "cell_type": "code",
   "execution_count": 5,
   "metadata": {
    "collapsed": true,
    "scrolled": true
   },
   "outputs": [],
   "source": [
    "insta_crawling_data_produce('***','***')"
   ]
  },
  {
   "cell_type": "code",
   "execution_count": null,
   "metadata": {
    "collapsed": true
   },
   "outputs": [],
   "source": []
  }
 ],
 "metadata": {
  "kernelspec": {
   "display_name": "Python 3",
   "language": "python",
   "name": "python3"
  },
  "language_info": {
   "codemirror_mode": {
    "name": "ipython",
    "version": 3
   },
   "file_extension": ".py",
   "mimetype": "text/x-python",
   "name": "python",
   "nbconvert_exporter": "python",
   "pygments_lexer": "ipython3",
   "version": "3.6.3"
  }
 },
 "nbformat": 4,
 "nbformat_minor": 2
}
